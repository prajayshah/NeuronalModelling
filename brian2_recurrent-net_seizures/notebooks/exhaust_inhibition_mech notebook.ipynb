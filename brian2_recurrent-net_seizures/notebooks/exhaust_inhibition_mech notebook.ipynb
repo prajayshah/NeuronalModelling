{
 "cells": [
  {
   "cell_type": "code",
   "execution_count": 3,
   "metadata": {},
   "outputs": [],
   "source": [
    "from brian2 import *\n",
    "import matplotlib.pyplot as plt"
   ]
  },
  {
   "cell_type": "code",
   "execution_count": 4,
   "metadata": {},
   "outputs": [
    {
     "name": "stdout",
     "output_type": "stream",
     "text": [
      "Starting simulation at t=0. s for a duration of 5. s\n",
      "5. s (100%) simulated in 5s\n"
     ]
    }
   ],
   "source": [
    "start_scope()\n",
    "\n",
    "taum = 20*ms\n",
    "taue = 5*ms\n",
    "taui = 10*ms\n",
    "tau_g = 50*ms\n",
    "Vt = -50*mV\n",
    "Vr = -60*mV\n",
    "El = -60*mV\n",
    "gi_t = -20*mV\n",
    "factor=1*mV\n",
    "\n",
    "# NOTE THE Z VARIABLE SEEMS TO BE INVERSED -- IT'S GOING TO ZERO WITH NO\n",
    "# INH. ACTIIVTY AND GOING TOWARDS 1 WITH HIGH INH. ACTIVITY\n",
    "\n",
    "eqs = '''\n",
    "dv/dt  = (ge + z * gi - (v-El))/taum : volt (unless refractory)\n",
    "\n",
    "dge/dt = -ge/taue : volt\n",
    "dgi/dt = -gi/taui : volt\n",
    "\n",
    "#gi_z = z * gi : volt\n",
    "dz/dt = 1/tau_g * (z_inf - z) : 1\n",
    "z_inf = 1/(1 + exp(-2*10*gi_diff)) : 1\n",
    "gi_diff = (gi_t - gi)/factor : 1\n",
    "'''\n",
    "\n",
    "# the goal is to try model a process whereby the failure of inhibition occurs\n",
    "# taking inspiration from Liou et al., this can be achieved by relating the reversal potential for Inh. to the Exc. neuron's chloride gradient according to the Nernst equation for E_Cl (chloride)\n",
    "# Liou also presents a generalized model of exhaustible inhibition where a factor z is modelled using first order kinetics and the Heaviside step function\n",
    "# you're going to need to test this independently to make sure that it does work as expected -- i.e. more Inh --> lower Inh effectiveness\n",
    "\n",
    "\n",
    "P = NeuronGroup(20, eqs, threshold='v>Vt', reset='v = Vr', refractory=1*ms,\n",
    "                method='euler')\n",
    "Pi = P[:10]\n",
    "Pe = P[10:]\n",
    "\n",
    "# initialization\n",
    "P.v = 'Vr + rand() * (Vt - Vr)'\n",
    "# P.v = 'Vr'\n",
    "P.ge = 0*mV\n",
    "P.gi = 0*mV\n",
    "P.z  = 1\n",
    "\n",
    "# make synaptic connections and specify the synaptic model\n",
    "we = 1.62*mV # excitatory synaptic weight (voltage)  (this is equal to [E_exc = 0mV - V_rest = -60mV] * g_exc = 0.27nS\n",
    "wi = -10*mV # inhibitory synaptic weight\n",
    "Ce = Synapses(Pe, P, on_pre='ge+=we')\n",
    "Ci = Synapses(Pi, Pe, on_pre='gi+=wi')\n",
    "Ce.connect(p=0.2)\n",
    "Ci.connect(p = 0.8)\n",
    "\n",
    "# add a time varying input that increases in strength of firing for a short period of time\n",
    "\n",
    "\n",
    "# poisson inputs into I neurons\n",
    "wx = 50.0*mV  # excitatory input neurons\n",
    "X = PoissonGroup(1, rates=20. * Hz)\n",
    "X_2 = PoissonGroup(1, rates=20. * Hz)\n",
    "CiX = Synapses(X, Pi, on_pre='ge+=wx')\n",
    "CeX = Synapses(X_2, Pe, on_pre='ge+=wx')\n",
    "CiX.connect(p=1.0)\n",
    "CeX.connect(p=1.0)\n",
    "\n",
    "trace = StateMonitor(P, 'v', record=[0,1,11,15])\n",
    "trace_z = StateMonitor(P, 'z', record=[0,1,11, 15])\n",
    "trace_gi_diff = StateMonitor(P, 'gi_diff', record=[0,1,11, 15])\n",
    "s_mon = SpikeMonitor(P)\n",
    "x_mon = SpikeMonitor(X)\n",
    "\n",
    "\n",
    "run(5 * second, report='text')"
   ]
  },
  {
   "cell_type": "code",
   "execution_count": 7,
   "metadata": {},
   "outputs": [
    {
     "data": {
      "image/png": "[encoded data removed]",
      "text/plain": [
       "<Figure size 432x288 with 1 Axes>"
      ]
     },
     "metadata": {
      "needs_background": "light"
     },
     "output_type": "display_data"
    }
   ],
   "source": [
    "# exhaustible inhibition based on recent level of inhibitory input\n",
    "gi_diff = np.linspace(-4, 4, 500)\n",
    "# y = (3 * (np.exp(-(x/2)) - np.exp(-(x/3))))\n",
    "# gi_diff = 20\n",
    "y = 1/(1 + np.exp(-2*10*gi_diff))\n",
    "plt.plot(gi_diff, y)\n",
    "plt.show()\n"
   ]
  },
  {
   "cell_type": "code",
   "execution_count": 1,
   "metadata": {},
   "outputs": [],
   "source": [
    "location = '/home/pshah/Documents/code/'\n",
    "import sys; sys.path.append('%sNeuronalModelling/brian2_recurrent-net_seizures/' % location)\n",
    "\n",
    "from brian_general_inhibition_exhaust import *"
   ]
  },
  {
   "cell_type": "code",
   "execution_count": null,
   "metadata": {},
   "outputs": [
    {
     "name": "stdout",
     "output_type": "stream",
     "text": [
      "Starting simulation at t=0. s for a duration of 5. s\n"
     ]
    }
   ],
   "source": [
    "net, trace, s_mon, trace_z, trace_gi, x_mon, trace_gi_diff = build_network()\n",
    "\n",
    "net.run(5 * second, report='text')"
   ]
  },
  {
   "cell_type": "code",
   "execution_count": null,
   "metadata": {},
   "outputs": [],
   "source": [
    "plt.figure(figsize=[20,3])\n",
    "# plot(trace.t/ms, trace[10].v/mV)\n",
    "plot(trace.t/ms, trace[11].v/mV)\n",
    "# plt.plot(trace.t/ms, trace[100].v/mV)\n",
    "xlabel('t (ms)')\n",
    "ylabel('mV')\n",
    "show()\n",
    "\n",
    "plt.figure(figsize=[20,3])\n",
    "plt.plot(s_mon.t/ms, s_mon.i, ',k')\n",
    "plt.xlabel('Time (ms)')\n",
    "plt.ylabel('Neuron index')\n",
    "plt.ylim(0,20)\n",
    "plt.show()"
   ]
  },
  {
   "cell_type": "code",
   "execution_count": null,
   "metadata": {},
   "outputs": [],
   "source": [
    "plt.figure(figsize=[20,3])\n",
    "plot(trace_z.t/ms, trace_z[11].z)\n",
    "xlabel('t (ms)')\n",
    "ylabel('z')\n",
    "show()\n",
    "\n",
    "plt.figure(figsize=[20,3])\n",
    "plot(trace_gi_diff.t/ms, trace_gi_diff[11].gi_diff)\n",
    "xlabel('t (ms)')\n",
    "ylabel('gi_diff')\n",
    "show()"
   ]
  },
  {
   "cell_type": "code",
   "execution_count": null,
   "metadata": {},
   "outputs": [],
   "source": []
  }
 ],
 "metadata": {
  "kernelspec": {
   "display_name": "Python 3",
   "language": "python",
   "name": "python3"
  },
  "language_info": {
   "codemirror_mode": {
    "name": "ipython",
    "version": 3
   },
   "file_extension": ".py",
   "mimetype": "text/x-python",
   "name": "python",
   "nbconvert_exporter": "python",
   "pygments_lexer": "ipython3",
   "version": "3.7.4"
  }
 },
 "nbformat": 4,
 "nbformat_minor": 2
}
