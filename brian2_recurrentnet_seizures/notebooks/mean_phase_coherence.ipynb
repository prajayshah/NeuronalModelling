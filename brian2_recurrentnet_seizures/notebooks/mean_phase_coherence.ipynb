{
 "cells": [
  {
   "cell_type": "markdown",
   "id": "tested-assault",
   "metadata": {},
   "source": [
    "## code for Mean Phase Coherence quantification metric"
   ]
  },
  {
   "cell_type": "code",
   "execution_count": 5,
   "id": "institutional-essence",
   "metadata": {},
   "outputs": [],
   "source": [
    "import numpy as np"
   ]
  },
  {
   "cell_type": "code",
   "execution_count": 6,
   "id": "satellite-boost",
   "metadata": {},
   "outputs": [],
   "source": [
    "# DUMMY DATA\n",
    "\n",
    "spike_array = np.array([[0,1,0,1,0,1], [0,1,0,1,0,1], [0,0,0,1,0,1]])"
   ]
  },
  {
   "cell_type": "code",
   "execution_count": 7,
   "id": "surgical-stranger",
   "metadata": {},
   "outputs": [
    {
     "name": "stdout",
     "output_type": "stream",
     "text": [
      "considering neuron i = 2, and j = 2; mean phase coherence values collected: 6\r"
     ]
    },
    {
     "data": {
      "text/plain": [
       "0.6666666666666666"
      ]
     },
     "execution_count": 7,
     "metadata": {},
     "output_type": "execute_result"
    }
   ],
   "source": [
    "\n",
    "mpc_list2 = []\n",
    "for j in range(spike_array.shape[0]):\n",
    "    spks = np.where(spike_array[i] == 1)[0]\n",
    "    if len(spks) > 0:\n",
    "        for i in range(spike_array.shape[0]):\n",
    "            message = 'considering neuron Neuron_2 = %s, and Neuron_1 = %s; mean phase coherence values collected: %s' % (j, i, len(mpc_list2))\n",
    "            print(message, end='\\r')\n",
    "            if i != j:\n",
    "                sigma_ji = 0\n",
    "                spks_2 = np.where(spike_array[j] == 1)[0]\n",
    "                if len(spks_2) > 0:\n",
    "                    for t2_k in spks:\n",
    "                        # print(t2_k)\n",
    "                        if len(spks_2[np.where(spks_2 < t2_k)]) > 0 and len(spks_2[np.where(spks_2 >= t2_k)]) > 0:\n",
    "                            t1_k = np.max(spks_2[np.where(spks_2 < t2_k)])\n",
    "                            t1_k1 = np.min(spks_2[np.where(spks_2 >= t2_k)])\n",
    "                            phi_k = 2*np.pi*((t2_k - t1_k)/(t1_k1 - t1_k))\n",
    "                            sigma_i += np.exp(1j*phi_k)\n",
    "                    result = np.abs(1/len(spks) * sigma_ji)\n",
    "                    mpc_list2.append(result)\n",
    "                        \n",
    "np.mean(mpc_list2)\n",
    "    "
   ]
  },
  {
   "cell_type": "code",
   "execution_count": null,
   "id": "monthly-decade",
   "metadata": {},
   "outputs": [],
   "source": []
  }
 ],
 "metadata": {
  "kernelspec": {
   "display_name": "Python 3",
   "language": "python",
   "name": "python3"
  },
  "language_info": {
   "codemirror_mode": {
    "name": "ipython",
    "version": 3
   },
   "file_extension": ".py",
   "mimetype": "text/x-python",
   "name": "python",
   "nbconvert_exporter": "python",
   "pygments_lexer": "ipython3",
   "version": "3.8.5"
  }
 },
 "nbformat": 4,
 "nbformat_minor": 5
}
