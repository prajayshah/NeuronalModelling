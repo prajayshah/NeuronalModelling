{
 "cells": [
  {
   "cell_type": "code",
   "execution_count": 1,
   "id": "hollow-invite",
   "metadata": {},
   "outputs": [
    {
     "name": "stdout",
     "output_type": "stream",
     "text": [
      "Welcome. This model is called ... rec_sz1\n"
     ]
    },
    {
     "name": "stderr",
     "output_type": "stream",
     "text": [
      "WARNING    \"dt\" is an internal variable of group \"poissongroup\", but also exists in the run namespace with the value 100. * usecond. The internal variable will be used. [brian2.groups.group.Group.resolve.resolution_conflict]\n"
     ]
    },
    {
     "name": "stdout",
     "output_type": "stream",
     "text": [
      "Starting simulation at t=0. s for a duration of 3. s\n",
      "1.2143 s (40%) simulated in 10s, estimated 15s remaining.\n",
      "2.3578 s (78%) simulated in 20s, estimated 5s remaining.\n",
      "3. s (100%) simulated in 25s\n"
     ]
    },
    {
     "data": {
      "image/png": "[encoded data removed]",
      "text/plain": [
       "<Figure size 1440x216 with 1 Axes>"
      ]
     },
     "metadata": {
      "needs_background": "light"
     },
     "output_type": "display_data"
    },
    {
     "name": "stdout",
     "output_type": "stream",
     "text": [
      "average spiking rate of population:  480.7292666666666 Hz\n"
     ]
    }
   ],
   "source": [
    "location = '/home/pshah/Documents/code/'\n",
    "import sys; sys.path.append('%sutils_praj' % location)\n",
    "sys.path.append('%sNeuronalModelling/' % location)\n",
    "\n",
    "# import statements\n",
    "from brian2 import *\n",
    "from funcs_pj import generate_new_color\n",
    "import matplotlib.pyplot as plt\n",
    "import numpy as np\n",
    "from brian2_recurrentnet_seizures.brian2_utils import *\n",
    "from brian2_recurrentnet_seizures.brian_recurrent_net_main import *\n",
    "\n",
    "import pickle\n",
    "import pandas as pd\n"
   ]
  },
  {
   "cell_type": "code",
   "execution_count": 2,
   "id": "apart-variety",
   "metadata": {
    "scrolled": false
   },
   "outputs": [
    {
     "name": "stderr",
     "output_type": "stream",
     "text": [
      "WARNING    \"dt\" is an internal variable of group \"poissongroup_1\", but also exists in the run namespace with the value 100. * usecond. The internal variable will be used. [brian2.groups.group.Group.resolve.resolution_conflict]\n"
     ]
    },
    {
     "name": "stdout",
     "output_type": "stream",
     "text": [
      "Starting simulation at t=0. s for a duration of 5. s\n",
      "1.2654 s (25%) simulated in 10s, estimated 30s remaining.\n",
      "2.4878 s (49%) simulated in 20s, estimated 20s remaining.\n",
      "3.7037 s (74%) simulated in 30s, estimated 11s remaining.\n",
      "4.939 s (98%) simulated in 40s, estimated < 1s remaining.\n",
      "5. s (100%) simulated in 40s\n"
     ]
    },
    {
     "data": {
      "image/png": "[encoded data removed]",
      "text/plain": [
       "<Figure size 1440x216 with 1 Axes>"
      ]
     },
     "metadata": {
      "needs_background": "light"
     },
     "output_type": "display_data"
    },
    {
     "name": "stdout",
     "output_type": "stream",
     "text": [
      "average spiking rate of population:  492.7612799999999 Hz\n"
     ]
    },
    {
     "data": {
      "image/png": "[encoded data removed]",
      "text/plain": [
       "<Figure size 432x288 with 1 Axes>"
      ]
     },
     "metadata": {
      "needs_background": "light"
     },
     "output_type": "display_data"
    }
   ],
   "source": [
    "#%% BUILD AND RUN NETWORK\n",
    "runtime = 5*second\n",
    "dt = 0.1*ms\n",
    "\n",
    "# build network\n",
    "record_id=[100, 4000, 2300, 3049, 494, 209, 250, 1505]\n",
    "net, trace, s_mon, trace_ge, s_mon_p, Ce, Ci, Ge, Gi, G, trace_z, trace_gi, trace_gi_diff = build_network(record_id=record_id, inh_conn=0.2)\n",
    "\n",
    "# run simulation\n",
    "net.run(runtime, report='text')\n",
    "\n",
    "# quick spike raster plot to initialize plotting\n",
    "figure(figsize=[20,3])\n",
    "plot(s_mon.t/ms, s_mon.i, ',k'); plt.show()\n",
    "spike_counts = s_mon.count\n",
    "spike_counts_Hz = array(spike_counts/runtime)\n",
    "avg=mean(spike_counts_Hz); print('average spiking rate of population: ', avg, 'Hz')\n",
    "\n",
    "plt.plot(s_mon.t/ms, array(s_mon.i), ',k')\n",
    "plt.show()\n"
   ]
  },
  {
   "cell_type": "code",
   "execution_count": null,
   "id": "precious-animal",
   "metadata": {},
   "outputs": [],
   "source": []
  }
 ],
 "metadata": {
  "kernelspec": {
   "display_name": "Python 3",
   "language": "python",
   "name": "python3"
  },
  "language_info": {
   "codemirror_mode": {
    "name": "ipython",
    "version": 3
   },
   "file_extension": ".py",
   "mimetype": "text/x-python",
   "name": "python",
   "nbconvert_exporter": "python",
   "pygments_lexer": "ipython3",
   "version": "3.8.5"
  }
 },
 "nbformat": 4,
 "nbformat_minor": 5
}
